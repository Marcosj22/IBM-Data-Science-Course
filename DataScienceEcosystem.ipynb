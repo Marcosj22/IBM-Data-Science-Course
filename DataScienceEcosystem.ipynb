{
  "cells": [
    {
      "cell_type": "markdown",
      "metadata": {
        "id": "view-in-github",
        "colab_type": "text"
      },
      "source": [
        "<a href=\"https://colab.research.google.com/github/Marcosj22/IBM-Data-Science-Course/blob/main/DataScienceEcosystem.ipynb\" target=\"_parent\"><img src=\"https://colab.research.google.com/assets/colab-badge.svg\" alt=\"Open In Colab\"/></a>"
      ]
    },
    {
      "cell_type": "markdown",
      "metadata": {
        "id": "E6TvzkR3w1Yi"
      },
      "source": [
        "<center>\n",
        "    <img src=\"https://cf-courses-data.s3.us.cloud-object-storage.appdomain.cloud/IBMDeveloperSkillsNetwork-DS0105EN-SkillsNetwork/labs/Module2/images/SN_web_lightmode.png\" width=\"300\" alt=\"cognitiveclass.ai logo\">\n",
        "</center>\n"
      ]
    },
    {
      "cell_type": "markdown",
      "metadata": {
        "id": "2O8qGWSxw1Yj"
      },
      "source": [
        "#### Add your code below following the instructions given in the course\n"
      ]
    },
    {
      "cell_type": "markdown",
      "metadata": {
        "id": "O_wS1N3-w1Yj"
      },
      "source": [
        "#### Exercise 2: Create markdown cell with title of the notebook"
      ]
    },
    {
      "cell_type": "markdown",
      "metadata": {
        "id": "PK8cuI-Fw1Yj"
      },
      "source": [
        "# Data Science Tools and Ecosystem"
      ]
    },
    {
      "cell_type": "markdown",
      "metadata": {
        "id": "V6Vks-2ew1Yj"
      },
      "source": [
        "#### Exercise 3: Create a markdown cell for an introduction and Exercise 10 - Insert a markdown cell to list Objectives"
      ]
    },
    {
      "cell_type": "markdown",
      "metadata": {
        "id": "7BNFeXZjw1Yk"
      },
      "source": [
        "## In this notebook, Data Science Tools and Ecosystem are summarized."
      ]
    },
    {
      "cell_type": "markdown",
      "metadata": {
        "id": "aYykM1htw1Yk"
      },
      "source": [
        "| __Objectives__ |\n",
        "------------------\n",
        "- Introduce to python notebook interface\n",
        "- List the most popular languages and libraries in Data Science\n",
        "- How to use Markdowns\n",
        "- Make some math operations\n",
        "- Publish this notebook in GitHub"
      ]
    },
    {
      "cell_type": "markdown",
      "metadata": {
        "id": "O17YWmZNw1Yk"
      },
      "source": [
        "#### Exercise 4 - Create a markdown cell to list data science languages"
      ]
    },
    {
      "cell_type": "markdown",
      "metadata": {
        "id": "fC5GSn0Yw1Yk"
      },
      "source": [
        "### Some of the popular languages that Data Scientists use are:\n",
        "1. Python\n",
        "2. R\n",
        "3. Julia"
      ]
    },
    {
      "cell_type": "markdown",
      "metadata": {
        "id": "_pROx-tOw1Yk"
      },
      "source": [
        "#### Exercise 5 - Create a markdown cell to list data science libraries"
      ]
    },
    {
      "cell_type": "markdown",
      "metadata": {
        "id": "joxWVKv-w1Yk"
      },
      "source": [
        "### Some of the commonly used libraries used by Data Scientists include:\n",
        "1. Pandas\n",
        "2. Numpy\n",
        "3. Matplotlib"
      ]
    },
    {
      "cell_type": "markdown",
      "metadata": {
        "tags": [],
        "id": "prZfow1Cw1Yk"
      },
      "source": [
        "#### Exercise 6 - Create a markdown cell with a table of Data Science tools"
      ]
    },
    {
      "cell_type": "markdown",
      "metadata": {
        "id": "5KvqrG_Dw1Yk"
      },
      "source": [
        "| Data Science Tools |\n",
        "----------------------\n",
        "| Spyder |\n",
        "| Jupyter Notebook |\n",
        "| PyCharm |"
      ]
    },
    {
      "cell_type": "markdown",
      "metadata": {
        "id": "tSJkhrI6w1Yk"
      },
      "source": [
        "#### Exercise 7 - Create a markdown cell introducing arithmetic expression examples"
      ]
    },
    {
      "cell_type": "markdown",
      "metadata": {
        "id": "9Z1baZMsw1Yk"
      },
      "source": [
        "### Below are a few examples of evaluating arithmetic expressions in Python"
      ]
    },
    {
      "cell_type": "markdown",
      "metadata": {
        "id": "CyNi6F2ww1Yl"
      },
      "source": [
        "#### Exercise 8 - Create a code cell to multiply and add numbers"
      ]
    },
    {
      "cell_type": "markdown",
      "metadata": {
        "id": "7ANGlGrXw1Yl"
      },
      "source": [
        "##### This a simple arithmetic expression to multiply then add integers"
      ]
    },
    {
      "cell_type": "code",
      "execution_count": null,
      "metadata": {
        "tags": [],
        "id": "pQ1O0hL-w1Yl",
        "outputId": "ecf29f42-d86a-4381-c663-b80e142d6a47"
      },
      "outputs": [
        {
          "data": {
            "text/plain": [
              "17"
            ]
          },
          "execution_count": 4,
          "metadata": {},
          "output_type": "execute_result"
        }
      ],
      "source": [
        "(3*4)+5"
      ]
    },
    {
      "cell_type": "markdown",
      "metadata": {
        "id": "zOyGCgWVw1Yl"
      },
      "source": [
        "#### Exercise 9 - Create a code cell to convert minutes to hours"
      ]
    },
    {
      "cell_type": "markdown",
      "metadata": {
        "id": "CqNAzlG9w1Ym"
      },
      "source": [
        "##### This will convert 200 minutes to hours by diving by 60"
      ]
    },
    {
      "cell_type": "code",
      "execution_count": null,
      "metadata": {
        "tags": [],
        "id": "f7K3ljJcw1Ym",
        "outputId": "8214c155-93b1-4deb-b3fc-2628b86bd3c4"
      },
      "outputs": [
        {
          "name": "stdout",
          "output_type": "stream",
          "text": [
            "3.3333333333333335\n"
          ]
        }
      ],
      "source": [
        "hours = 200/60\n",
        "print(hours)"
      ]
    },
    {
      "cell_type": "markdown",
      "metadata": {
        "id": "VStvg3qHw1Ym"
      },
      "source": [
        "#### Exercise 10 - Insert a markdown cell to list Objectives (Together exercise 3)"
      ]
    },
    {
      "cell_type": "markdown",
      "metadata": {
        "tags": [],
        "id": "Z9bfwZnbw1Ym"
      },
      "source": [
        "#### Exercise 11 - Create a markdown cell to indicate the Author's name"
      ]
    },
    {
      "cell_type": "markdown",
      "metadata": {
        "id": "8JHZOHPZw1Ym"
      },
      "source": [
        "## Author\n",
        "### Marcos Oliveira"
      ]
    }
  ],
  "metadata": {
    "kernelspec": {
      "display_name": "Python",
      "language": "python",
      "name": "conda-env-python-py"
    },
    "language_info": {
      "codemirror_mode": {
        "name": "ipython",
        "version": 3
      },
      "file_extension": ".py",
      "mimetype": "text/x-python",
      "name": "python",
      "nbconvert_exporter": "python",
      "pygments_lexer": "ipython3",
      "version": "3.7.12"
    },
    "colab": {
      "provenance": [],
      "include_colab_link": true
    }
  },
  "nbformat": 4,
  "nbformat_minor": 0
}